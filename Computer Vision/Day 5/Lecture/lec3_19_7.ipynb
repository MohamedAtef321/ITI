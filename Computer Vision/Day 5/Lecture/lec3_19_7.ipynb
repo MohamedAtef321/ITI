{
 "cells": [
  {
   "cell_type": "code",
   "execution_count": 1,
   "metadata": {},
   "outputs": [
    {
     "data": {
      "text/plain": [
       "True"
      ]
     },
     "execution_count": 1,
     "metadata": {},
     "output_type": "execute_result"
    }
   ],
   "source": [
    "10 > 3"
   ]
  },
  {
   "cell_type": "code",
   "execution_count": 2,
   "metadata": {},
   "outputs": [
    {
     "name": "stdout",
     "output_type": "stream",
     "text": [
      "False\n"
     ]
    }
   ],
   "source": [
    "y = (2==3)\n",
    "print (y)"
   ]
  },
  {
   "cell_type": "code",
   "execution_count": 3,
   "metadata": {},
   "outputs": [
    {
     "data": {
      "text/plain": [
       "True"
      ]
     },
     "execution_count": 3,
     "metadata": {},
     "output_type": "execute_result"
    }
   ],
   "source": [
    "20 == 20.00000000000000000000009999"
   ]
  },
  {
   "cell_type": "code",
   "execution_count": 4,
   "metadata": {},
   "outputs": [
    {
     "data": {
      "text/plain": [
       "False"
      ]
     },
     "execution_count": 4,
     "metadata": {},
     "output_type": "execute_result"
    }
   ],
   "source": [
    "20 == 20.009"
   ]
  },
  {
   "cell_type": "code",
   "execution_count": 5,
   "metadata": {},
   "outputs": [
    {
     "data": {
      "text/plain": [
       "True"
      ]
     },
     "execution_count": 5,
     "metadata": {},
     "output_type": "execute_result"
    }
   ],
   "source": [
    "(20.00000000000009999 < 20.001) and (20.00000000000000000999999 > 19.999)"
   ]
  },
  {
   "cell_type": "code",
   "execution_count": 6,
   "metadata": {},
   "outputs": [
    {
     "data": {
      "text/plain": [
       "False"
      ]
     },
     "execution_count": 6,
     "metadata": {},
     "output_type": "execute_result"
    }
   ],
   "source": [
    "10 == '10'"
   ]
  },
  {
   "cell_type": "code",
   "execution_count": 8,
   "metadata": {},
   "outputs": [
    {
     "data": {
      "text/plain": [
       "True"
      ]
     },
     "execution_count": 8,
     "metadata": {},
     "output_type": "execute_result"
    }
   ],
   "source": [
    "'bag' > 'apple'\n",
    "# lowercase range ---> (97 -> 122)\n",
    "# uppercase range ---> (65 -> 90) "
   ]
  },
  {
   "cell_type": "code",
   "execution_count": 9,
   "metadata": {},
   "outputs": [
    {
     "data": {
      "text/plain": [
       "65"
      ]
     },
     "execution_count": 9,
     "metadata": {},
     "output_type": "execute_result"
    }
   ],
   "source": [
    "ord('A')"
   ]
  },
  {
   "cell_type": "code",
   "execution_count": 12,
   "metadata": {},
   "outputs": [
    {
     "name": "stdout",
     "output_type": "stream",
     "text": [
      "x is larger than 5\n",
      "done\n"
     ]
    }
   ],
   "source": [
    "x = 10\n",
    "if x>5 :\n",
    "    print('x is larger than 5' )\n",
    "print('done')"
   ]
  },
  {
   "cell_type": "code",
   "execution_count": 16,
   "metadata": {},
   "outputs": [
    {
     "name": "stdout",
     "output_type": "stream",
     "text": [
      "failed\n"
     ]
    }
   ],
   "source": [
    "deg = 20\n",
    "if deg >= 50:\n",
    "    print('passed')\n",
    "else:\n",
    "    print('failed')"
   ]
  },
  {
   "cell_type": "code",
   "execution_count": 19,
   "metadata": {},
   "outputs": [
    {
     "name": "stdout",
     "output_type": "stream",
     "text": [
      "F\n"
     ]
    }
   ],
   "source": [
    "deg = 20\n",
    "if deg > 85:\n",
    "    print('A')\n",
    "elif deg > 75:\n",
    "    print('B')\n",
    "elif deg > 65:\n",
    "    print('C')\n",
    "elif deg > 50:\n",
    "    print('D')\n",
    "else:\n",
    "    print('F')"
   ]
  },
  {
   "cell_type": "markdown",
   "metadata": {},
   "source": [
    "## input 3 ages and get the oldest and the yongest "
   ]
  },
  {
   "cell_type": "code",
   "execution_count": 20,
   "metadata": {},
   "outputs": [
    {
     "name": "stdout",
     "output_type": "stream",
     "text": [
      "oldest =  30\n",
      "youngest =  10\n"
     ]
    }
   ],
   "source": [
    "age1 = int(input(\"Enter first age: \"))\n",
    "age2 = int(input(\"Enter second age: \"))\n",
    "age3 = int(input(\"Enter third age: \"))\n",
    "\n",
    "if ((age1>age2) and (age1>age3)):\n",
    "    oldest = age1\n",
    "    if (age2>age3):\n",
    "        youngest = age3\n",
    "    else:\n",
    "        youngest = age2\n",
    "       \n",
    "elif((age2>age1) and (age2>age3)):\n",
    "    oldest = age2\n",
    "    if (age1>age3):\n",
    "        youngest = age3\n",
    "    else:\n",
    "        youngest = age1\n",
    "\n",
    "elif((age3>age2) and (age3>age1)):\n",
    "    oldest = age3\n",
    "    if (age1>age2):\n",
    "        youngest = age2\n",
    "    else:\n",
    "        youngest = age1\n",
    "\n",
    "     \n",
    "print('oldest = ',oldest)\n",
    "print('youngest = ',youngest)"
   ]
  },
  {
   "cell_type": "code",
   "execution_count": 21,
   "metadata": {},
   "outputs": [
    {
     "name": "stdout",
     "output_type": "stream",
     "text": [
      "succeeded\n"
     ]
    }
   ],
   "source": [
    "grade = 100 \n",
    "result = 'succeeded' if grade>=50 else'fail'\n",
    "print(result)"
   ]
  },
  {
   "cell_type": "markdown",
   "metadata": {},
   "source": [
    "# | problem statment |\n",
    "### make password strength checker to check if the password has :-\n",
    "* lowercase \n",
    "* upper case \n",
    "* digits\n",
    "* whitespaces\n",
    "* special characters\n",
    "#### make a counter to count each of them like output sample \n",
    "\n",
    "___________________\n",
    "## output sample : \n",
    "___________________\n",
    "###===== Welcome to Password Strength Checker =====\n",
    "* Your password has:-\n",
    "* 5 lowercase letters\n",
    "* 1 uppercase letters\n",
    "* 0 digits\n",
    "* 0 whitespaces\n",
    "* 2 special characters\n",
    "* Password score: 3/5\n",
    "* Remarks: Your password is okay, but it can be improved a lot\n",
    "\n",
    "* Exiting...\n",
    "## Note: we need to import getpass , search for it and use it in your code\n",
    "# Deadline at 11:59 PM (\"Best of luck :D\")"
   ]
  },
  {
   "cell_type": "code",
   "execution_count": 48,
   "metadata": {},
   "outputs": [
    {
     "name": "stdout",
     "output_type": "stream",
     "text": [
      "===== Welcome to Password Strength Checker =====\n",
      "Your password has:-\n",
      "0 lowercase letters\n",
      "0 uppercase letters\n",
      "0 digits\n",
      "0 whitespaces\n",
      "0 special characters\n",
      "Password score: 0/5\n",
      "Remarks: \n",
      "\n",
      "Exiting...\n"
     ]
    }
   ],
   "source": [
    "import string\n",
    "import getpass\n",
    "\n",
    "def check_password_strength(password):\n",
    "    lower_alpha_count = upper_alpha_count = number_count = whitespace_count = special_char_count = 0\n",
    "    for char in list(password):\n",
    "        if char in string.ascii_lowercase:\n",
    "            lower_alpha_count += 1\n",
    "        elif char in string.ascii_uppercase:\n",
    "            upper_alpha_count += 1\n",
    "        elif char in string.digits:\n",
    "            number_count += 1\n",
    "        elif char == ' ':\n",
    "            whitespace_count += 1\n",
    "        else:\n",
    "            special_char_count += 1\n",
    "    strength = 0\n",
    "    remarks = ''\n",
    "\n",
    "    if lower_alpha_count >= 1:\n",
    "        strength += 1\n",
    "    if upper_alpha_count >= 1:\n",
    "        strength += 1\n",
    "    if number_count >= 1:\n",
    "        strength += 1\n",
    "    if whitespace_count >= 1:\n",
    "        strength += 1\n",
    "    if special_char_count >= 1:\n",
    "        strength += 1\n",
    "\n",
    "    if strength == 1:\n",
    "        remarks = \"That's a very bad password. Change it as soon as possible.\"\n",
    "    elif strength == 2:\n",
    "        remarks = \"That's not a good password. You should consider making a tougher password.\"\n",
    "    elif strength == 3:\n",
    "        remarks = \"Your password is okay, but it can be improved a lot\"\n",
    "    elif strength == 4:\n",
    "        remarks = \"Your password is hard to guess. But you can make it even more secure\"\n",
    "    elif strength == 5:\n",
    "        remarks = \"Now that's one hell of a strong password !!! Hackers don't have a chance guessing that password.\"\n",
    "\n",
    "    print(\"Your password has:-\")\n",
    "    print(f\"{lower_alpha_count} lowercase letters\")\n",
    "    print(f\"{upper_alpha_count} uppercase letters\")\n",
    "    print(f\"{number_count} digits\")\n",
    "    print(f'{whitespace_count} whitespaces')\n",
    "    print(f\"{special_char_count} special characters\")\n",
    "    print(f\"Password score: {strength}/5\")\n",
    "    print(f\"Remarks: {remarks}\")\n",
    "\n",
    "print(\"===== Welcome to Password Strength Checker =====\")\n",
    "while 1:\n",
    "    choice = input(\"Do you want to check a password's strength (y/n) : \")\n",
    "    if 'y' in choice.lower():\n",
    "        password = getpass.getpass(\"Enter the password: \")\n",
    "        check_password_strength(password)\n",
    "    elif 'n' in choice.lower():\n",
    "        print('Exiting...')\n",
    "        break\n",
    "    else:\n",
    "        print('Invalid input...please try again.')\n",
    "    print()\n",
    "\n",
    "\n",
    "\n"
   ]
  },
  {
   "cell_type": "code",
   "execution_count": 23,
   "metadata": {},
   "outputs": [
    {
     "data": {
      "text/plain": [
       "48"
      ]
     },
     "execution_count": 23,
     "metadata": {},
     "output_type": "execute_result"
    }
   ],
   "source": [
    "grades = [30, 50, 90, 70, 32, 48, 64] \n",
    "grades[-2]"
   ]
  },
  {
   "cell_type": "code",
   "execution_count": 25,
   "metadata": {},
   "outputs": [
    {
     "name": "stdout",
     "output_type": "stream",
     "text": [
      "30 failed\n",
      "50 failed\n",
      "90 succeeded\n",
      "70 succeeded\n",
      "32 failed\n",
      "48 failed\n",
      "64 succeeded\n"
     ]
    }
   ],
   "source": [
    "for x in grades:\n",
    "    if (x> 50):\n",
    "        print(x, 'succeeded')\n",
    "    else:\n",
    "        print(f'{x} failed')"
   ]
  },
  {
   "cell_type": "code",
   "execution_count": 26,
   "metadata": {},
   "outputs": [],
   "source": [
    "list2 = [[1, 'Ahmed', 50], [2, 'Ali', 30], [3, 'Hani', 20]]"
   ]
  },
  {
   "cell_type": "code",
   "execution_count": 27,
   "metadata": {},
   "outputs": [
    {
     "data": {
      "text/plain": [
       "[[1, 'Ahmed', 10], [2, 'Ali, 30'], [3, 'Hani', 20]]"
      ]
     },
     "execution_count": 27,
     "metadata": {},
     "output_type": "execute_result"
    }
   ],
   "source": [
    "list2[0][2] = 10\n",
    "list2 "
   ]
  },
  {
   "cell_type": "code",
   "execution_count": 28,
   "metadata": {},
   "outputs": [
    {
     "name": "stdout",
     "output_type": "stream",
     "text": [
      "(0, 'a')\n",
      "(1, 'b')\n",
      "(2, 'c')\n",
      "(3, 'd')\n"
     ]
    }
   ],
   "source": [
    "for entry in enumerate(\"abcd\"):\n",
    "    print (entry)"
   ]
  },
  {
   "cell_type": "code",
   "execution_count": 29,
   "metadata": {},
   "outputs": [
    {
     "name": "stdout",
     "output_type": "stream",
     "text": [
      "100, 98, 96, 94, 92, 90, 88, 86, 84, 82, 80, 78, 76, 74, 72, 70, 68, 66, 64, 62, 60, 58, 56, 54, 52, 50, 48, 46, 44, 42, 40, 38, 36, 34, 32, 30, 28, 26, 24, 22, 20, 18, 16, 14, 12, 10, 8, 6, 4, 2, 0, -2, -4, -6, -8, -10, -12, -14, -16, -18, -20, -22, -24, -26, -28, -30, -32, -34, -36, -38, -40, -42, -44, -46, -48, "
     ]
    }
   ],
   "source": [
    "for i in range(100,-50,-2):#start #stop #step \n",
    "    print(i,end=', ')"
   ]
  },
  {
   "cell_type": "code",
   "execution_count": 30,
   "metadata": {},
   "outputs": [
    {
     "name": "stdout",
     "output_type": "stream",
     "text": [
      "your input is fghfj\n",
      "your input is gkgh\n",
      "your input is tfhtj\n",
      "your input is quit\n",
      "Done\n"
     ]
    }
   ],
   "source": [
    "cmd = \"\"\n",
    "while 1:\n",
    "    cmd = input('enter your command please')\n",
    "    print(f'your input is {cmd}')\n",
    "    if (cmd == 'quit'):\n",
    "        break\n",
    "print('Done')"
   ]
  },
  {
   "cell_type": "markdown",
   "metadata": {},
   "source": [
    "## Quiz\n",
    "\n",
    "Write a code that prints and count even numbers in the range from 1 to 100."
   ]
  },
  {
   "cell_type": "code",
   "execution_count": 31,
   "metadata": {},
   "outputs": [],
   "source": [
    "def greet():\n",
    "    print('Welcome')"
   ]
  },
  {
   "cell_type": "code",
   "execution_count": 32,
   "metadata": {},
   "outputs": [
    {
     "name": "stdout",
     "output_type": "stream",
     "text": [
      "Welcome\n"
     ]
    }
   ],
   "source": [
    "greet()"
   ]
  },
  {
   "cell_type": "code",
   "execution_count": 33,
   "metadata": {},
   "outputs": [],
   "source": [
    "def greet(name):\n",
    "    print(f'hello {name}')"
   ]
  },
  {
   "cell_type": "code",
   "execution_count": 34,
   "metadata": {},
   "outputs": [
    {
     "name": "stdout",
     "output_type": "stream",
     "text": [
      "hello Ali\n"
     ]
    }
   ],
   "source": [
    "greet('Ali')"
   ]
  },
  {
   "cell_type": "code",
   "execution_count": 35,
   "metadata": {},
   "outputs": [],
   "source": [
    "def greet(firstname, lastname):\n",
    "    print(f'hello {firstname} {lastname}')"
   ]
  },
  {
   "cell_type": "code",
   "execution_count": 36,
   "metadata": {},
   "outputs": [
    {
     "name": "stdout",
     "output_type": "stream",
     "text": [
      "hello Ali Mohamed\n"
     ]
    }
   ],
   "source": [
    "greet('Ali', 'Mohamed')"
   ]
  },
  {
   "cell_type": "code",
   "execution_count": 37,
   "metadata": {},
   "outputs": [
    {
     "name": "stdout",
     "output_type": "stream",
     "text": [
      "hello Ali Mohamed\n"
     ]
    }
   ],
   "source": [
    "x = greet('Ali', 'Mohamed')"
   ]
  },
  {
   "cell_type": "code",
   "execution_count": 38,
   "metadata": {},
   "outputs": [
    {
     "data": {
      "text/plain": [
       "NoneType"
      ]
     },
     "execution_count": 38,
     "metadata": {},
     "output_type": "execute_result"
    }
   ],
   "source": [
    "type(x) #type of x is none because our function is void function which not returning any value so the variable x doesn't store any value so it has no type "
   ]
  },
  {
   "cell_type": "code",
   "execution_count": 39,
   "metadata": {},
   "outputs": [
    {
     "data": {
      "text/plain": [
       "True"
      ]
     },
     "execution_count": 39,
     "metadata": {},
     "output_type": "execute_result"
    }
   ],
   "source": [
    "x is None"
   ]
  },
  {
   "cell_type": "code",
   "execution_count": 40,
   "metadata": {},
   "outputs": [],
   "source": [
    "def add_2(x):\n",
    "    return x+2"
   ]
  },
  {
   "cell_type": "code",
   "execution_count": 41,
   "metadata": {},
   "outputs": [
    {
     "data": {
      "text/plain": [
       "5"
      ]
     },
     "execution_count": 41,
     "metadata": {},
     "output_type": "execute_result"
    }
   ],
   "source": [
    "add_2(3)"
   ]
  },
  {
   "cell_type": "code",
   "execution_count": 42,
   "metadata": {},
   "outputs": [
    {
     "data": {
      "text/plain": [
       "5"
      ]
     },
     "execution_count": 42,
     "metadata": {},
     "output_type": "execute_result"
    }
   ],
   "source": [
    "y = add_2(3)\n",
    "y"
   ]
  },
  {
   "cell_type": "code",
   "execution_count": 43,
   "metadata": {},
   "outputs": [
    {
     "data": {
      "text/plain": [
       "5"
      ]
     },
     "execution_count": 43,
     "metadata": {},
     "output_type": "execute_result"
    }
   ],
   "source": [
    "y"
   ]
  },
  {
   "cell_type": "code",
   "execution_count": 44,
   "metadata": {},
   "outputs": [],
   "source": [
    "def increment (value, by):\n",
    "    return value+by"
   ]
  },
  {
   "cell_type": "code",
   "execution_count": 46,
   "metadata": {},
   "outputs": [
    {
     "data": {
      "text/plain": [
       "11.5"
      ]
     },
     "execution_count": 46,
     "metadata": {},
     "output_type": "execute_result"
    }
   ],
   "source": [
    "increment(10, 1.5)"
   ]
  },
  {
   "cell_type": "code",
   "execution_count": null,
   "metadata": {},
   "outputs": [],
   "source": []
  }
 ],
 "metadata": {
  "kernelspec": {
   "display_name": "Python 3.10.2 64-bit",
   "language": "python",
   "name": "python3"
  },
  "language_info": {
   "codemirror_mode": {
    "name": "ipython",
    "version": 3
   },
   "file_extension": ".py",
   "mimetype": "text/x-python",
   "name": "python",
   "nbconvert_exporter": "python",
   "pygments_lexer": "ipython3",
   "version": "3.10.2"
  },
  "orig_nbformat": 4,
  "vscode": {
   "interpreter": {
    "hash": "346b625e1223578ba6914f5ad6df042d894ad6c0b106dfbbde3ab9a03fc849b3"
   }
  }
 },
 "nbformat": 4,
 "nbformat_minor": 2
}
