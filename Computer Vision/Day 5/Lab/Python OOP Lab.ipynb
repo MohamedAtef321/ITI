{
 "cells": [
  {
   "cell_type": "code",
   "execution_count": 7,
   "metadata": {},
   "outputs": [],
   "source": [
    "# Q1 Create a Vehicle class with name, max_speed and mileage instance attributes.\n",
    "class Vehicle:\n",
    "    def __init__(self, name= None , max_speed= None, mileage= None):\n",
    "        self.name = name\n",
    "        self.max_speed = max_speed\n",
    "        self.mileage = mileage\n",
    "    \n",
    "    # Q3 Add a function seating_capacity to the vehicle class\n",
    "    # that takes as an argument the capacity of the vehicle and\n",
    "    # returns the following formatted string \"The seating capacity\n",
    "    # of a {<vehicle_name>} is {capacity} passengers\"\n",
    "    def seating_capacity(self, capacity):\n",
    "        return f'The seating capacity of a {self.name} is {capacity} passengers'"
   ]
  },
  {
   "cell_type": "code",
   "execution_count": 8,
   "metadata": {},
   "outputs": [],
   "source": [
    "# Q2 Create a child class Bus that will inherit all of the attributes\n",
    "# and methods of the Vehicle class.\n",
    "class Bus(Vehicle):\n",
    "    def __init__(self):\n",
    "        super().__init__()\n",
    "\n",
    "        # Q5 Add an instance variable to the Bus class called\n",
    "        # capacity and give it a default value of 50.\n",
    "        self.capacity = 50\n",
    "\n",
    "    # Q4 override the function seating_capacity in the Bus class\n",
    "    # to give the capacity argument a default value of 50.\n",
    "    def seating_capacity(self, capacity=50):\n",
    "        return f'The seating capacity of a {self.name} is {capacity} passengers'\n",
    "\n",
    "\n",
    "    # Q6 Create a function fare() in the Bus class that\n",
    "    # calculates the renting fare of the bus per day according to\n",
    "    # the following equation. Fare = capacity *100\n",
    "    def fare(self):\n",
    "        fare = self.capacity * 100\n",
    "        return fare"
   ]
  },
  {
   "cell_type": "code",
   "execution_count": null,
   "metadata": {},
   "outputs": [],
   "source": []
  },
  {
   "cell_type": "code",
   "execution_count": null,
   "metadata": {},
   "outputs": [],
   "source": []
  },
  {
   "cell_type": "code",
   "execution_count": null,
   "metadata": {},
   "outputs": [],
   "source": []
  },
  {
   "cell_type": "code",
   "execution_count": null,
   "metadata": {},
   "outputs": [],
   "source": []
  },
  {
   "cell_type": "code",
   "execution_count": null,
   "metadata": {},
   "outputs": [],
   "source": []
  },
  {
   "cell_type": "code",
   "execution_count": null,
   "metadata": {},
   "outputs": [],
   "source": []
  },
  {
   "cell_type": "code",
   "execution_count": null,
   "metadata": {},
   "outputs": [],
   "source": []
  },
  {
   "cell_type": "code",
   "execution_count": null,
   "metadata": {},
   "outputs": [],
   "source": []
  },
  {
   "cell_type": "code",
   "execution_count": null,
   "metadata": {},
   "outputs": [],
   "source": []
  },
  {
   "cell_type": "code",
   "execution_count": null,
   "metadata": {},
   "outputs": [],
   "source": []
  }
 ],
 "metadata": {
  "kernelspec": {
   "display_name": "Python 3.8.8 ('base')",
   "language": "python",
   "name": "python3"
  },
  "language_info": {
   "codemirror_mode": {
    "name": "ipython",
    "version": 3
   },
   "file_extension": ".py",
   "mimetype": "text/x-python",
   "name": "python",
   "nbconvert_exporter": "python",
   "pygments_lexer": "ipython3",
   "version": "3.8.8"
  },
  "orig_nbformat": 4,
  "vscode": {
   "interpreter": {
    "hash": "303fa613b6f3e1efefe7bb28036e305e1021fa6bdb083a5f9fd57f9d9bbad8eb"
   }
  }
 },
 "nbformat": 4,
 "nbformat_minor": 2
}
