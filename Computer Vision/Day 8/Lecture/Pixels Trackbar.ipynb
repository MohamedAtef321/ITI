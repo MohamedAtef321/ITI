{
 "cells": [
  {
   "cell_type": "code",
   "execution_count": 1,
   "metadata": {},
   "outputs": [],
   "source": [
    "import numpy as np\n",
    "import matplotlib.pyplot as plt\n",
    "import cv2"
   ]
  },
  {
   "cell_type": "code",
   "execution_count": 3,
   "metadata": {},
   "outputs": [],
   "source": [
    "img = np.zeros((256,256), np.uint8)\n",
    "cv2.namedWindow('Image')\n",
    "\n",
    "def Nothing(x):\n",
    "    pass\n",
    "\n",
    "cv2.createTrackbar(\"Row\", 'Image', 0, img.shape[0], Nothing)\n",
    "cv2.createTrackbar(\"Column\", 'Image', 0, img.shape[1], Nothing)\n",
    "\n",
    "while True:\n",
    "\n",
    "    img = np.zeros((256,256), np.uint8)\n",
    "    r = cv2.getTrackbarPos(\"Row\", 'Image')\n",
    "    c = cv2.getTrackbarPos(\"Column\", 'Image')\n",
    "\n",
    "    img[r, :] = 255\n",
    "    img[:, c] = 255\n",
    "\n",
    "    cv2.imshow('Image', img)\n",
    "    k = cv2.waitKey(1)\n",
    "    if k == ord('q'):\n",
    "        break\n",
    "\n",
    "cv2.destroyAllWindows()\n"
   ]
  },
  {
   "cell_type": "code",
   "execution_count": null,
   "metadata": {},
   "outputs": [],
   "source": []
  }
 ],
 "metadata": {
  "kernelspec": {
   "display_name": "Python 3.8.8 ('base')",
   "language": "python",
   "name": "python3"
  },
  "language_info": {
   "codemirror_mode": {
    "name": "ipython",
    "version": 3
   },
   "file_extension": ".py",
   "mimetype": "text/x-python",
   "name": "python",
   "nbconvert_exporter": "python",
   "pygments_lexer": "ipython3",
   "version": "3.8.8"
  },
  "orig_nbformat": 4,
  "vscode": {
   "interpreter": {
    "hash": "303fa613b6f3e1efefe7bb28036e305e1021fa6bdb083a5f9fd57f9d9bbad8eb"
   }
  }
 },
 "nbformat": 4,
 "nbformat_minor": 2
}
