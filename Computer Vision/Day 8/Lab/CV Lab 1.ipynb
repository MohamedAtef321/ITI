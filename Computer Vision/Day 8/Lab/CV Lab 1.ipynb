{
 "cells": [
  {
   "cell_type": "code",
   "execution_count": 2,
   "metadata": {},
   "outputs": [],
   "source": [
    "import numpy as np\n",
    "import matplotlib.pyplot as plt\n",
    "import cv2"
   ]
  },
  {
   "cell_type": "code",
   "execution_count": 26,
   "metadata": {},
   "outputs": [
    {
     "name": "stdout",
     "output_type": "stream",
     "text": [
      "(21, 21, 3)\n"
     ]
    }
   ],
   "source": [
    "# Q10- read “Task_in” image and then print image shape ,plot the image using matplotlib\n",
    "# and opencv then edit the right corner pixel to be red color then save the image as\n",
    "# (.jpg,.npg) to your current folder name it “my_image.png” then read both image again.\n",
    "# “Make your observation”.\n",
    "img = cv2.imread('Task_in.jpg')\n",
    "print(img.shape)"
   ]
  },
  {
   "cell_type": "code",
   "execution_count": 27,
   "metadata": {},
   "outputs": [
    {
     "data": {
      "text/plain": [
       "<matplotlib.image.AxesImage at 0x17f9de9f7c0>"
      ]
     },
     "execution_count": 27,
     "metadata": {},
     "output_type": "execute_result"
    },
    {
     "data": {
      "image/png": "[encoded data removed]",
      "text/plain": [
       "<Figure size 432x288 with 1 Axes>"
      ]
     },
     "metadata": {
      "needs_background": "light"
     },
     "output_type": "display_data"
    }
   ],
   "source": [
    "plt.imshow(img)"
   ]
  },
  {
   "cell_type": "code",
   "execution_count": 28,
   "metadata": {},
   "outputs": [],
   "source": [
    "while True:\n",
    "    cv2.imshow('Image', img)\n",
    "    k = cv2.waitKey(1)\n",
    "    if k == ord('q'):\n",
    "        break\n",
    "cv2.destroyAllWindows()"
   ]
  },
  {
   "cell_type": "code",
   "execution_count": 29,
   "metadata": {},
   "outputs": [
    {
     "data": {
      "text/plain": [
       "<matplotlib.image.AxesImage at 0x17f9deff820>"
      ]
     },
     "execution_count": 29,
     "metadata": {},
     "output_type": "execute_result"
    },
    {
     "data": {
      "image/png": "[encoded data removed]",
      "text/plain": [
       "<Figure size 432x288 with 1 Axes>"
      ]
     },
     "metadata": {
      "needs_background": "light"
     },
     "output_type": "display_data"
    }
   ],
   "source": [
    "img[:,-1,0] = 255\n",
    "plt.imshow(img)"
   ]
  },
  {
   "cell_type": "code",
   "execution_count": 30,
   "metadata": {},
   "outputs": [
    {
     "data": {
      "text/plain": [
       "True"
      ]
     },
     "execution_count": 30,
     "metadata": {},
     "output_type": "execute_result"
    }
   ],
   "source": [
    "cv2.imwrite('my_image.png', img)"
   ]
  },
  {
   "cell_type": "code",
   "execution_count": 31,
   "metadata": {},
   "outputs": [
    {
     "data": {
      "image/png": "[encoded data removed]",
      "text/plain": [
       "<Figure size 720x360 with 2 Axes>"
      ]
     },
     "metadata": {
      "needs_background": "light"
     },
     "output_type": "display_data"
    }
   ],
   "source": [
    "org_img = cv2.imread('Task_in.jpg')\n",
    "mod_img = cv2.imread('my_image.png')\n",
    "\n",
    "plt.figure(figsize=(10,5))\n",
    "plt.subplot(121)\n",
    "plt.imshow(org_img)\n",
    "plt.subplot(122)\n",
    "plt.imshow(mod_img)\n",
    "plt.show()"
   ]
  },
  {
   "cell_type": "markdown",
   "metadata": {},
   "source": [
    "* Observation: Matplotlib read image as RGB, But OpenCV read it as BGR"
   ]
  },
  {
   "cell_type": "code",
   "execution_count": 48,
   "metadata": {},
   "outputs": [
    {
     "name": "stdout",
     "output_type": "stream",
     "text": [
      "(51, 51, 3)\n"
     ]
    },
    {
     "data": {
      "text/plain": [
       "<matplotlib.image.AxesImage at 0x17f9de39310>"
      ]
     },
     "execution_count": 48,
     "metadata": {},
     "output_type": "execute_result"
    },
    {
     "data": {
      "image/png": "[encoded data removed]",
      "text/plain": [
       "<Figure size 432x288 with 1 Axes>"
      ]
     },
     "metadata": {
      "needs_background": "light"
     },
     "output_type": "display_data"
    }
   ],
   "source": [
    "# Q11- make 51*51*3 RGB image with Blue color then save it as ”Blue.jpg”\n",
    "blue = np.zeros((51,51,3), np.uint8)\n",
    "blue[:,:,2] = 255\n",
    "print(blue.shape)\n",
    "plt.imshow(blue)"
   ]
  },
  {
   "cell_type": "code",
   "execution_count": 49,
   "metadata": {},
   "outputs": [],
   "source": [
    "plt.imsave('Blue.jpg', blue)"
   ]
  },
  {
   "cell_type": "code",
   "execution_count": 51,
   "metadata": {},
   "outputs": [],
   "source": [
    "# Q12- Make trackbar for rgb colors with window “colors” .\n",
    "img = np.zeros((600,600,3), np.uint8)\n",
    "cv2.namedWindow('Colors')\n",
    "\n",
    "def Nothing(x):\n",
    "    pass\n",
    "\n",
    "cv2.createTrackbar(\"Red\", 'Colors', 0, 255, Nothing)\n",
    "cv2.createTrackbar(\"Green\", 'Colors', 0, 255, Nothing)\n",
    "cv2.createTrackbar(\"Blue\", 'Colors', 0, 255, Nothing)\n",
    "\n",
    "while True:\n",
    "\n",
    "    r = cv2.getTrackbarPos(\"Red\", 'Colors')\n",
    "    g = cv2.getTrackbarPos(\"Green\", 'Colors')\n",
    "    b = cv2.getTrackbarPos(\"Blue\", 'Colors')\n",
    "\n",
    "    img[:] = np.array([b,g,r], np.uint8)\n",
    "    cv2.imshow('Colors', img)\n",
    "\n",
    "    k = cv2.waitKey(1)\n",
    "    if k == ord('q'):\n",
    "        break\n",
    "\n",
    "cv2.destroyAllWindows()\n"
   ]
  },
  {
   "cell_type": "code",
   "execution_count": 53,
   "metadata": {},
   "outputs": [
    {
     "name": "stdout",
     "output_type": "stream",
     "text": [
      "Saving Frame 264\n",
      "Destroying....\n"
     ]
    }
   ],
   "source": [
    "# Q13- run video stream using your laptop camera and save frames when i press key “s”\n",
    "# close camera when i press “q” ,name of images should be “img.png +{counter}”\n",
    "cap = cv2.VideoCapture(0)\n",
    "cnt = 0\n",
    "while cap.isOpened():\n",
    "    ret, frame = cap.read()\n",
    "    if ret:\n",
    "        cnt += 1\n",
    "        cv2.imshow('Camera', frame)\n",
    "        k = cv2.waitKey(1)\n",
    "        if k == ord('q'):\n",
    "            break\n",
    "        elif k == ord('s'): \n",
    "            print(f'Saving Frame {cnt}')\n",
    "            cv2.imwrite(f'img {cnt}.png', frame)\n",
    "    else:\n",
    "        break\n",
    "print('Destroying....')\n",
    "cap.release()\n",
    "cv2.destroyAllWindows()"
   ]
  },
  {
   "cell_type": "code",
   "execution_count": null,
   "metadata": {},
   "outputs": [],
   "source": []
  }
 ],
 "metadata": {
  "kernelspec": {
   "display_name": "Python 3.8.8 ('base')",
   "language": "python",
   "name": "python3"
  },
  "language_info": {
   "codemirror_mode": {
    "name": "ipython",
    "version": 3
   },
   "file_extension": ".py",
   "mimetype": "text/x-python",
   "name": "python",
   "nbconvert_exporter": "python",
   "pygments_lexer": "ipython3",
   "version": "3.8.8"
  },
  "orig_nbformat": 4,
  "vscode": {
   "interpreter": {
    "hash": "303fa613b6f3e1efefe7bb28036e305e1021fa6bdb083a5f9fd57f9d9bbad8eb"
   }
  }
 },
 "nbformat": 4,
 "nbformat_minor": 2
}
