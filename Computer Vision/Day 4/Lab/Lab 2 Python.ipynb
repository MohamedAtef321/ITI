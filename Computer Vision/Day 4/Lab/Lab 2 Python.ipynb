{
 "cells": [
  {
   "cell_type": "code",
   "execution_count": 6,
   "metadata": {},
   "outputs": [
    {
     "name": "stdout",
     "output_type": "stream",
     "text": [
      "You entered 16378, last digit is : 8\n"
     ]
    }
   ],
   "source": [
    "# Q1 -Write a program to display the last digit of a number.\n",
    "num = int(input('Enter Number : '))\n",
    "print(f'You entered {num}, last digit is : {num % 10}')"
   ]
  },
  {
   "cell_type": "code",
   "execution_count": 8,
   "metadata": {},
   "outputs": [
    {
     "name": "stdout",
     "output_type": "stream",
     "text": [
      "You entered 123446, last digit is : 6 \n",
      " last digit is divisible by 3 : True\n"
     ]
    }
   ],
   "source": [
    "# Q2- Write a program to check whether the last digit of a number( entered by user ) is\n",
    "# divisible by 3 or not.\n",
    "num = int(input('Enter Number : '))\n",
    "print(f'You entered {num}, last digit is : {num % 10} \\n last digit is divisible by 3 : {(num % 10)%3 == 0}')"
   ]
  },
  {
   "cell_type": "code",
   "execution_count": 10,
   "metadata": {},
   "outputs": [
    {
     "name": "stdout",
     "output_type": "stream",
     "text": [
      "Monday\n"
     ]
    }
   ],
   "source": [
    "# Q3- Write a program to accept a number from 1 to 7 and display the name of the day like 1 for Sunday,\n",
    "# 2 for Monday and so on.\n",
    "num = int(input('Enter Day Number : '))\n",
    "days = ['Sunday', 'Monday', 'Tuesday', 'Wednesday', 'Thursday', 'Friday', 'Saturday']\n",
    "if num in range(1,8):\n",
    "    print(days[num-1])\n",
    "else:\n",
    "    print('Enter Number between 1:7')"
   ]
  },
  {
   "cell_type": "code",
   "execution_count": 13,
   "metadata": {},
   "outputs": [
    {
     "name": "stdout",
     "output_type": "stream",
     "text": [
      "Char A is : Vowel\n"
     ]
    }
   ],
   "source": [
    "# Q4- Write a program to check a character is vowel or not.\n",
    "char = input('Enter Character : ')\n",
    "char = char.upper()\n",
    "print(f'Char {char} is :', end=' ')\n",
    "if char in ['A', 'E', 'I', 'O', 'U', 'Y']:\n",
    "    print('Vowel')\n",
    "else :\n",
    "    print('Not Vowel')"
   ]
  },
  {
   "cell_type": "code",
   "execution_count": 16,
   "metadata": {},
   "outputs": [
    {
     "name": "stdout",
     "output_type": "stream",
     "text": [
      "Marked Price : 15000.0 \n",
      "Discount : 0.2 \n",
      "Net Price = 12000.0\n"
     ]
    }
   ],
   "source": [
    "# Q5- Accept the marked price from the user and calculate the Net amount as\n",
    "# (Marked Price – Discount) to pay according to following criteria:\n",
    "marked_price = float(input('Enter Marked Price : '))\n",
    "discount = 0.1\n",
    "net_price = marked_price\n",
    "\n",
    "if marked_price > 10000 :\n",
    "    discount = 0.2\n",
    "elif marked_price > 7000 :\n",
    "    discount = 0.15\n",
    "\n",
    "net_price = marked_price * (1 - discount)\n",
    "print(f'Marked Price : {marked_price} \\nDiscount : {discount} \\nNet Price = {net_price}')"
   ]
  },
  {
   "cell_type": "code",
   "execution_count": 17,
   "metadata": {},
   "outputs": [
    {
     "name": "stdout",
     "output_type": "stream",
     "text": [
      "20 40 60 80 100 "
     ]
    }
   ],
   "source": [
    "# Q6- Use a loop to display elements from a given list that are present at odd index positions\n",
    "lst = [10, 20, 30, 40, 50, 60, 70, 80, 90, 100]\n",
    "for i, val in enumerate(lst):\n",
    "    if i%2 == 1 :\n",
    "        print(val, end=' ')"
   ]
  },
  {
   "cell_type": "code",
   "execution_count": 18,
   "metadata": {},
   "outputs": [
    {
     "name": "stdout",
     "output_type": "stream",
     "text": [
      "1 \n",
      "1 2 \n",
      "1 2 3 \n",
      "1 2 3 4 \n"
     ]
    }
   ],
   "source": [
    "# Q7- Write program to print the following pattern using loop.\n",
    "n = 4\n",
    "for i in range(1, n+1):\n",
    "    for j in range(1, i+1):\n",
    "        print(j, end=' ')\n",
    "    print('')"
   ]
  },
  {
   "cell_type": "code",
   "execution_count": 20,
   "metadata": {},
   "outputs": [
    {
     "name": "stdout",
     "output_type": "stream",
     "text": [
      "The Sum : 15.0 \n",
      "The Average : 5.0\n"
     ]
    }
   ],
   "source": [
    "# Q8 - Write a program that keep on accepting number from the user until user enters Zero.\n",
    "# Display the sum and average of all the numbers.\n",
    "i = 0\n",
    "sum = 0\n",
    "avg = 0\n",
    "\n",
    "while True:\n",
    "    num = float(input('Enter your Number : '))\n",
    "    if num == 0 :\n",
    "        print(f'The Sum : {sum} \\nThe Average : {avg}')\n",
    "        break\n",
    "    else :\n",
    "        i += 1\n",
    "        sum += num\n",
    "        avg = sum / i\n",
    "    "
   ]
  },
  {
   "cell_type": "code",
   "execution_count": 22,
   "metadata": {},
   "outputs": [
    {
     "name": "stdout",
     "output_type": "stream",
     "text": [
      "[4, 6, 8, 10, 12, 14, 16, 18, 20, 22, 24, 26, 28, 30]\n"
     ]
    }
   ],
   "source": [
    "# Q9- Generate a Python list of all the even numbers between 4 to 30\n",
    "print(list(range(4, 31, 2)))"
   ]
  },
  {
   "cell_type": "code",
   "execution_count": 23,
   "metadata": {},
   "outputs": [
    {
     "name": "stdout",
     "output_type": "stream",
     "text": [
      "The Maximum : 300 \n",
      "The Minimum : 10\n"
     ]
    }
   ],
   "source": [
    "# Q10- Make Method to Return the Maximum and Minimum item from the given list.\n",
    "lst=[100,30,22,40,60,20,10,300]\n",
    "\n",
    "def find_max_min(lst):\n",
    "    max = lst[0]\n",
    "    min = lst[0]\n",
    "    for i in lst:\n",
    "        if i > max:\n",
    "            max = i\n",
    "        elif i < min:\n",
    "            min = i\n",
    "    return max, min\n",
    "\n",
    "max_num, min_num = find_max_min(lst)\n",
    "print(f'The Maximum : {max_num} \\nThe Minimum : {min_num}')"
   ]
  },
  {
   "cell_type": "code",
   "execution_count": null,
   "metadata": {},
   "outputs": [],
   "source": []
  }
 ],
 "metadata": {
  "kernelspec": {
   "display_name": "Python 3.8.8 ('base')",
   "language": "python",
   "name": "python3"
  },
  "language_info": {
   "codemirror_mode": {
    "name": "ipython",
    "version": 3
   },
   "file_extension": ".py",
   "mimetype": "text/x-python",
   "name": "python",
   "nbconvert_exporter": "python",
   "pygments_lexer": "ipython3",
   "version": "3.8.8"
  },
  "orig_nbformat": 4,
  "vscode": {
   "interpreter": {
    "hash": "303fa613b6f3e1efefe7bb28036e305e1021fa6bdb083a5f9fd57f9d9bbad8eb"
   }
  }
 },
 "nbformat": 4,
 "nbformat_minor": 2
}
