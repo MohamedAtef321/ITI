{
 "cells": [
  {
   "cell_type": "code",
   "execution_count": 2,
   "metadata": {},
   "outputs": [],
   "source": [
    "# Q1- Given the previous equation:-\n",
    "# Generate 10 random values for `x` and `y` as input with max. value = 100.\n",
    "import tensorflow as tf\n",
    "import numpy as np\n",
    "import matplotlib.pyplot as plt\n",
    "import pandas as pd"
   ]
  },
  {
   "cell_type": "code",
   "execution_count": 3,
   "metadata": {},
   "outputs": [],
   "source": [
    "# Creating Data\n",
    "def create_data(number_of_samples):\n",
    "    data = []\n",
    "    for i in range(10):\n",
    "        x = np.random.randint(0,100)\n",
    "        y = np.random.randint(0,100)\n",
    "        z = 5*x - 3*y + 7\n",
    "        data.append([x,y,z])\n",
    "    data = np.matrix(data)\n",
    "    return data\n",
    "\n",
    "data_train = create_data(10)\n",
    "input_train = np.array(data_train[:,:-1])\n",
    "output_train = np.array(data_train[:,-1])"
   ]
  },
  {
   "cell_type": "code",
   "execution_count": 22,
   "metadata": {},
   "outputs": [],
   "source": [
    "# Building Model\n",
    "model = tf.keras.models.Sequential(\n",
    "    tf.keras.layers.Dense(1, input_shape=[2,])\n",
    ")\n",
    "\n",
    "model.compile(loss= tf.keras.losses.MSE,\n",
    "              optimizer= tf.keras.optimizers.Adam())"
   ]
  },
  {
   "cell_type": "code",
   "execution_count": 23,
   "metadata": {},
   "outputs": [],
   "source": [
    "# fitting model\n",
    "epochs = 20000\n",
    "hist = model.fit(input_train, output_train, epochs= epochs, verbose=0)"
   ]
  },
  {
   "cell_type": "code",
   "execution_count": 24,
   "metadata": {},
   "outputs": [
    {
     "name": "stdout",
     "output_type": "stream",
     "text": [
      "True paramrters: 5 -3 7\n",
      "Predicted paramrters: 5.0000525 -2.999965 6.9951024\n",
      "Loss: 1.7975689843297005e-06\n"
     ]
    },
    {
     "data": {
      "image/png": "[encoded data removed]",
      "text/plain": [
       "<Figure size 576x360 with 1 Axes>"
      ]
     },
     "metadata": {
      "needs_background": "light"
     },
     "output_type": "display_data"
    }
   ],
   "source": [
    "# plotting history\n",
    "pd.DataFrame(hist.history).plot(figsize=(8, 5))\n",
    "\n",
    "# print weights\n",
    "w, b = model.get_weights()\n",
    "print('True paramrters: 5 -3 7')\n",
    "print('Predicted paramrters:', w[0,0], w[1,0], b[0])\n",
    "print('Loss:', hist.history['loss'][-1])"
   ]
  },
  {
   "cell_type": "code",
   "execution_count": null,
   "metadata": {},
   "outputs": [],
   "source": []
  }
 ],
 "metadata": {
  "kernelspec": {
   "display_name": "Python 3.8.8 ('base')",
   "language": "python",
   "name": "python3"
  },
  "language_info": {
   "codemirror_mode": {
    "name": "ipython",
    "version": 3
   },
   "file_extension": ".py",
   "mimetype": "text/x-python",
   "name": "python",
   "nbconvert_exporter": "python",
   "pygments_lexer": "ipython3",
   "version": "3.8.8"
  },
  "orig_nbformat": 4,
  "vscode": {
   "interpreter": {
    "hash": "303fa613b6f3e1efefe7bb28036e305e1021fa6bdb083a5f9fd57f9d9bbad8eb"
   }
  }
 },
 "nbformat": 4,
 "nbformat_minor": 2
}
