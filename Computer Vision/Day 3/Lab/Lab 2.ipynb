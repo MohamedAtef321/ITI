{
 "cells": [
  {
   "cell_type": "code",
   "execution_count": 1,
   "metadata": {},
   "outputs": [
    {
     "name": "stdout",
     "output_type": "stream",
     "text": [
      "Sum of lst [1, 2, 5, 6, 8, 3] = 25\n"
     ]
    }
   ],
   "source": [
    "# Q1- Given a list of numbers, Calculate and print the sum of the list using loops techniques.\n",
    "lst = [1,2,5,6,8,3]\n",
    "sum = 0\n",
    "for i in lst:\n",
    "    sum += i\n",
    "print(f'Sum of lst {lst} = {sum}')"
   ]
  },
  {
   "cell_type": "code",
   "execution_count": 3,
   "metadata": {},
   "outputs": [
    {
     "name": "stdout",
     "output_type": "stream",
     "text": [
      "Even Numbers of list [10, 11, 13, 12, 15, 20, 40] are : [10, 12, 20, 40]\n"
     ]
    }
   ],
   "source": [
    "# Q2- Given a list of numbers, Write a Python program to print the even numbers of this list.\n",
    "lst = [10,11,13,12,15,20,40]\n",
    "even_nums = []\n",
    "for i in lst:\n",
    "    if i % 2 == 0:\n",
    "        even_nums.append(i)\n",
    "print(f'Even Numbers of list {lst} are : {even_nums}')"
   ]
  },
  {
   "cell_type": "code",
   "execution_count": 8,
   "metadata": {},
   "outputs": [
    {
     "name": "stdout",
     "output_type": "stream",
     "text": [
      "Error!! Division by zero\n"
     ]
    }
   ],
   "source": [
    "# Q3- Given 2 numbers a, b, Write a Python program to print the result of division a / b if b\n",
    "# isn't zero and print \"Error!! Division by zero\" if b is zero.\n",
    "a = int(input('Enter 1st Number : '))\n",
    "b = int(input('Enter 2nd Number : '))\n",
    "res = 0\n",
    "if b == 0 :\n",
    "    print(\"Error!! Division by zero\")\n",
    "else:\n",
    "   res = a / b\n",
    "   print(f'{a} / {b} = {res}')"
   ]
  },
  {
   "cell_type": "code",
   "execution_count": 11,
   "metadata": {},
   "outputs": [
    {
     "name": "stdout",
     "output_type": "stream",
     "text": [
      "Even less than 10\n",
      "Zero\n",
      "Odd less than 10\n",
      "Odd greater than 10\n",
      "Even greater than 10\n",
      "Odd less than 10\n",
      "Even less than 10\n",
      "Odd less than 10\n",
      "Odd greater than 10\n",
      "Even greater than 10\n"
     ]
    }
   ],
   "source": [
    "# Q4- Iterate over the following list, and print a new line for each element to match \n",
    "# the following conditions:\n",
    "lst = [2, 0, 3, 13, 76, 5, 8, 10, 1, 33, 42]\n",
    "for i in lst:\n",
    "    if i == 0 :\n",
    "        print('Zero')\n",
    "    elif (i%2 == 0) & (i<10) :\n",
    "        print(\"Even less than 10\")\n",
    "    elif (i%2 == 0) & (i>10) :\n",
    "        print(\"Even greater than 10\")\n",
    "    elif (i%2 != 0) & (i<10) :\n",
    "        print(\"Odd less than 10\")\n",
    "    elif (i%2 != 0) & (i>10) :\n",
    "        print(\"Odd greater than 10\")\n",
    "    "
   ]
  },
  {
   "cell_type": "code",
   "execution_count": 24,
   "metadata": {},
   "outputs": [
    {
     "name": "stdout",
     "output_type": "stream",
     "text": [
      "list is : [0, 1, 2, 3, 4, 5, 8, 10, 13, 33, 42, 76] \n",
      "length : 12\n"
     ]
    }
   ],
   "source": [
    "# Q5- Find the index of the value \"76\" in the following list ,\n",
    "lst = [2, 0, 3, 13, 76, 5, 8, 10, 1, 33, 42]\n",
    "i = 0\n",
    "for ind,v in enumerate(lst):\n",
    "    if v == 76 : i = ind\n",
    "lst.append(i)\n",
    "lst.sort()\n",
    "\n",
    "print(f'list is : {lst} \\nlength : {len(lst)}')"
   ]
  },
  {
   "cell_type": "code",
   "execution_count": 27,
   "metadata": {},
   "outputs": [
    {
     "name": "stdout",
     "output_type": "stream",
     "text": [
      "{'first_name': 'Alan', 'age': 42, 'last_name': 'Turing'}\n"
     ]
    }
   ],
   "source": [
    "# Q6- Given the following dictionary, \n",
    "ip_dict_ = {'first_name': 'Alan', \n",
    "            'age': 26, \n",
    "            'country': 'England'}\n",
    "ip_dict_['age'] = 42\n",
    "ip_dict_[\"last_name\"] = 'Turing'\n",
    "ip_dict_.__delitem__('country')\n",
    "print(ip_dict_)"
   ]
  },
  {
   "cell_type": "code",
   "execution_count": 31,
   "metadata": {},
   "outputs": [
    {
     "name": "stdout",
     "output_type": "stream",
     "text": [
      "{1, 2, 3, 4, 5, 6, 7.5}\n"
     ]
    }
   ],
   "source": [
    "# Q7- Given the following set:\n",
    "ip_set = {1, 2, 3, 7.5, 'Ali'}\n",
    "ip_set.update([6, 4, 5])\n",
    "ip_set.remove('Ali')\n",
    "print(ip_set)"
   ]
  },
  {
   "cell_type": "code",
   "execution_count": 41,
   "metadata": {},
   "outputs": [
    {
     "name": "stdout",
     "output_type": "stream",
     "text": [
      "1 \n",
      "1 2 \n",
      "1 2 3 \n",
      "1 2 3 4 \n",
      "1 2 3 4 5 \n"
     ]
    }
   ],
   "source": [
    "# Q8- print the following half pyramid pattern of numbers\n",
    "n = 5\n",
    "for i in range(1, n+1):\n",
    "    for j in range(1, i+1):\n",
    "        print(j, end=' ')\n",
    "    print('')"
   ]
  },
  {
   "cell_type": "code",
   "execution_count": null,
   "metadata": {},
   "outputs": [],
   "source": []
  }
 ],
 "metadata": {
  "kernelspec": {
   "display_name": "Python 3.8.8 ('base')",
   "language": "python",
   "name": "python3"
  },
  "language_info": {
   "codemirror_mode": {
    "name": "ipython",
    "version": 3
   },
   "file_extension": ".py",
   "mimetype": "text/x-python",
   "name": "python",
   "nbconvert_exporter": "python",
   "pygments_lexer": "ipython3",
   "version": "3.8.8"
  },
  "orig_nbformat": 4,
  "vscode": {
   "interpreter": {
    "hash": "303fa613b6f3e1efefe7bb28036e305e1021fa6bdb083a5f9fd57f9d9bbad8eb"
   }
  }
 },
 "nbformat": 4,
 "nbformat_minor": 2
}
