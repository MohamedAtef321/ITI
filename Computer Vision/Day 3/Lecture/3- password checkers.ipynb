{
 "cells": [
  {
   "cell_type": "markdown",
   "metadata": {},
   "source": [
    "# | problem statment |\n",
    "### make password strength checker to check if the password has :-\n",
    "* lowercase \n",
    "* upper case \n",
    "* digits\n",
    "* whitespaces\n",
    "* special characters\n",
    "#### make a counter to count each of them like output sample \n",
    "\n",
    "_______\n",
    "## output sample : \n",
    "_______\n",
    "###===== Welcome to Password Strength Checker =====\n",
    "* Your password has:-\n",
    "* 5 lowercase letters\n",
    "* 1 uppercase letters\n",
    "* 0 digits\n",
    "* 0 whitespaces\n",
    "* 2 special characters\n",
    "* Password score: 3/5\n",
    "* Remarks: Your password is okay, but it can be improved a lot\n",
    "\n",
    "* Exiting...\n",
    "\n",
    "## Note: we need to import getpass , search for it and use it in your code\n",
    "# Deadline at 11:59 PM (\"Best of luck :D\")"
   ]
  },
  {
   "cell_type": "code",
   "execution_count": 13,
   "metadata": {},
   "outputs": [
    {
     "name": "stdout",
     "output_type": "stream",
     "text": [
      "===== Welcome to Password Strength Checker ===== \n",
      "Your password Ali_  12345!# has:-\n",
      "3 lowercase letters\n",
      "1 uppercase letters\n",
      "5 digits\n",
      "2 whitespaces\n",
      "2 special characters\n",
      "Password score: 13/5\n",
      "Perfect Password\n"
     ]
    }
   ],
   "source": [
    "password = input('Enter Password : ')\n",
    "\n",
    "whitespaces = 0\n",
    "digits = 0\n",
    "lowercase = 0\n",
    "uppercase = 0\n",
    "spec_chars = 0\n",
    "\n",
    "for char in password:\n",
    "    if char.isdigit():\n",
    "        digits += 1\n",
    "    elif char in ['!', '@', '#', '$', '%', '^', '&', '*']:\n",
    "        spec_chars += 1\n",
    "    elif char == ' ':\n",
    "        whitespaces += 1\n",
    "    elif char == char.lower():\n",
    "        lowercase += 1\n",
    "    elif char == char.upper():\n",
    "        uppercase += 1\n",
    "    \n",
    "\n",
    "\n",
    "print(f'===== Welcome to Password Strength Checker ===== \\nYour password {password} has:-')\n",
    "print(f'{lowercase} lowercase letters')\n",
    "print(f'{uppercase} uppercase letters')\n",
    "print(f'{digits} digits')\n",
    "print(f'{whitespaces} whitespaces')\n",
    "print(f'{spec_chars} special characters')\n",
    "\n",
    "\n",
    "\n",
    "\n",
    "score = (lowercase + uppercase + spec_chars + digits + whitespaces)\n",
    "print(f'Password score: {score}/5')\n",
    "if score <= 5:\n",
    "    print('Your password is okay, but it can be improved a lot')\n",
    "else:\n",
    "    print('Perfect Password')\n"
   ]
  },
  {
   "cell_type": "code",
   "execution_count": null,
   "metadata": {},
   "outputs": [],
   "source": []
  }
 ],
 "metadata": {
  "kernelspec": {
   "display_name": "Python 3.8.8 ('base')",
   "language": "python",
   "name": "python3"
  },
  "language_info": {
   "codemirror_mode": {
    "name": "ipython",
    "version": 3
   },
   "file_extension": ".py",
   "mimetype": "text/x-python",
   "name": "python",
   "nbconvert_exporter": "python",
   "pygments_lexer": "ipython3",
   "version": "3.8.8"
  },
  "orig_nbformat": 4,
  "vscode": {
   "interpreter": {
    "hash": "303fa613b6f3e1efefe7bb28036e305e1021fa6bdb083a5f9fd57f9d9bbad8eb"
   }
  }
 },
 "nbformat": 4,
 "nbformat_minor": 2
}
