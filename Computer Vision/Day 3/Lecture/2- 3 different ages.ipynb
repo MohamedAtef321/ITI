{
 "cells": [
  {
   "cell_type": "code",
   "execution_count": 1,
   "metadata": {},
   "outputs": [
    {
     "name": "stdout",
     "output_type": "stream",
     "text": [
      "Ages = ['20', '40', '30'] \n",
      " Max age : 40 \n",
      " Min age : 20\n"
     ]
    }
   ],
   "source": [
    "# 3 different ages\n",
    "ages =[input('Enter age 1 : '),\n",
    "       input('Enter age 2 : '),\n",
    "       input('Enter age 3 : ')]\n",
    "max_age = ages[0]\n",
    "min_age = ages[0]\n",
    "for age in ages[1:]:\n",
    "    if age > max_age:\n",
    "        max_age = age\n",
    "    elif age < min_age:\n",
    "        min_age = age\n",
    "print(f'Ages = {ages} \\n Max age : {max_age} \\n Min age : {min_age}')"
   ]
  },
  {
   "cell_type": "code",
   "execution_count": null,
   "metadata": {},
   "outputs": [],
   "source": []
  }
 ],
 "metadata": {
  "kernelspec": {
   "display_name": "Python 3.8.8 ('base')",
   "language": "python",
   "name": "python3"
  },
  "language_info": {
   "codemirror_mode": {
    "name": "ipython",
    "version": 3
   },
   "file_extension": ".py",
   "mimetype": "text/x-python",
   "name": "python",
   "nbconvert_exporter": "python",
   "pygments_lexer": "ipython3",
   "version": "3.8.8"
  },
  "orig_nbformat": 4,
  "vscode": {
   "interpreter": {
    "hash": "303fa613b6f3e1efefe7bb28036e305e1021fa6bdb083a5f9fd57f9d9bbad8eb"
   }
  }
 },
 "nbformat": 4,
 "nbformat_minor": 2
}
