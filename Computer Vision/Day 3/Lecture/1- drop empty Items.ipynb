{
 "cells": [
  {
   "cell_type": "code",
   "execution_count": 16,
   "metadata": {},
   "outputs": [
    {
     "name": "stdout",
     "output_type": "stream",
     "text": [
      "Original Dictionary: \n",
      " {'c1': 'Red', 'c2': 'Green', 'c3': None} \n",
      " New Dictionary after dropping empty items: \n",
      " {'c1': 'Red', 'c2': 'Green'}\n"
     ]
    }
   ],
   "source": [
    "# Write a Python program to drop empty Items from a given Dictionary.\n",
    "dict1 = {'c1': 'Red', 'c2': 'Green', 'c3':None}\n",
    "odict = dict1.copy()\n",
    "none_k = []\n",
    "for k in dict1.keys():\n",
    "    if dict1[k] == None:\n",
    "        none_k.append(k)\n",
    "for k in none_k:\n",
    "    dict1.__delitem__(k)    \n",
    "print(f'Original Dictionary: \\n {odict} \\n New Dictionary after dropping empty items: \\n {dict1}')"
   ]
  },
  {
   "cell_type": "code",
   "execution_count": null,
   "metadata": {},
   "outputs": [],
   "source": []
  },
  {
   "cell_type": "code",
   "execution_count": null,
   "metadata": {},
   "outputs": [],
   "source": []
  },
  {
   "cell_type": "code",
   "execution_count": null,
   "metadata": {},
   "outputs": [],
   "source": []
  },
  {
   "cell_type": "code",
   "execution_count": null,
   "metadata": {},
   "outputs": [],
   "source": []
  },
  {
   "cell_type": "code",
   "execution_count": null,
   "metadata": {},
   "outputs": [],
   "source": []
  },
  {
   "cell_type": "code",
   "execution_count": null,
   "metadata": {},
   "outputs": [],
   "source": []
  }
 ],
 "metadata": {
  "kernelspec": {
   "display_name": "Python 3.8.8 ('base')",
   "language": "python",
   "name": "python3"
  },
  "language_info": {
   "codemirror_mode": {
    "name": "ipython",
    "version": 3
   },
   "file_extension": ".py",
   "mimetype": "text/x-python",
   "name": "python",
   "nbconvert_exporter": "python",
   "pygments_lexer": "ipython3",
   "version": "3.8.8"
  },
  "orig_nbformat": 4,
  "vscode": {
   "interpreter": {
    "hash": "303fa613b6f3e1efefe7bb28036e305e1021fa6bdb083a5f9fd57f9d9bbad8eb"
   }
  }
 },
 "nbformat": 4,
 "nbformat_minor": 2
}
