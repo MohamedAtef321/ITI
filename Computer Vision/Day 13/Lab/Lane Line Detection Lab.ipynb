{
 "cells": [
  {
   "cell_type": "code",
   "execution_count": 1,
   "metadata": {},
   "outputs": [],
   "source": [
    "import matplotlib.pyplot as plt\n",
    "import numpy as np\n",
    "import cv2\n",
    "%matplotlib inline\n",
    "%run helpers.py"
   ]
  },
  {
   "cell_type": "code",
   "execution_count": 21,
   "metadata": {},
   "outputs": [
    {
     "name": "stdout",
     "output_type": "stream",
     "text": [
      "Destroying....\n"
     ]
    }
   ],
   "source": [
    "# Q1- Make Trackbar for the following images to tune the parameters of canny detection.\n",
    "cv2.namedWindow('Image')\n",
    "\n",
    "def Nothing(x):\n",
    "    pass\n",
    "\n",
    "cv2.createTrackbar(\"Threshold 1\", 'Image', 0, 200, Nothing)\n",
    "cv2.createTrackbar(\"Threshold 2\", 'Image', 0, 200, Nothing)\n",
    "\n",
    "\n",
    "while True:\n",
    "\n",
    "    CANNY_THRESHOLD_1 = cv2.getTrackbarPos(\"Threshold 1\", 'Image') # try: 50 - 100      # Typical: 50\n",
    "    CANNY_THRESHOLD_2 = cv2.getTrackbarPos(\"Threshold 2\", 'Image') # try: 100 - 200     # Typical: 150\n",
    "    def canny_edges(gray): # https://docs.opencv.org/3.4/d7/de1/tutorial_js_canny.html\n",
    "        kernel_size = 5 #kernel size for Gaussian smoothing / blurring\n",
    "        blur_gray= cv2.GaussianBlur(gray, (kernel_size, kernel_size), 0)#Gaussian smoothing / blurring\n",
    "\n",
    "        # finding edges - Canny Edge detection (strong gradient between adjacent pixels)\n",
    "        edges = cv2.Canny(blur_gray, CANNY_THRESHOLD_1, CANNY_THRESHOLD_2)\n",
    "        return(edges)\n",
    "\n",
    "\n",
    "    #HOUGH LINES PARAMETERS\n",
    "    RHO = 1                 # try: 1 - 4 (0.5 increments)  \n",
    "    THETA = np.pi/180       # Usually this is Ok\n",
    "    MIN_VOTES = 10          # try: 10 - 50                  # Typical: 30\n",
    "    MIN_LINE_LEN = 5 \n",
    "    MAX_LINE_GAP = 25 \n",
    "\n",
    "    def hough_lines(img):\n",
    "        lines = cv2.HoughLinesP(img, RHO, THETA, MIN_VOTES, np.array([]),\n",
    "                                minLineLength=MIN_LINE_LEN, maxLineGap=MAX_LINE_GAP)\n",
    "        return lines\n",
    "\n",
    "    # Read the image:\n",
    "    image = cv2.imread('test_images/solidWhiteCurve.jpg') #read in\n",
    "    image = cv2.cvtColor(image, cv2.COLOR_BGR2RGB)\n",
    "\n",
    "    gray_img = cv2.cvtColor(image, cv2.COLOR_RGB2GRAY)#grayscale conversion\n",
    "\n",
    "    # 5.   Get the edges (Canny)\n",
    "    edges_img = canny_edges(gray_img)\n",
    "\n",
    "    cv2.imshow('Image', edges_img)\n",
    "    k = cv2.waitKey(1)\n",
    "    if k == ord('q'):\n",
    "        break\n",
    "\n",
    "print('Destroying....')\n",
    "cv2.destroyAllWindows()\n"
   ]
  },
  {
   "cell_type": "markdown",
   "metadata": {},
   "source": [
    "## Observation:\n",
    "#### - the more values of thresholds (1,2) the little edges you see."
   ]
  },
  {
   "cell_type": "code",
   "execution_count": 26,
   "metadata": {},
   "outputs": [
    {
     "name": "stdout",
     "output_type": "stream",
     "text": [
      "Destroying....\n"
     ]
    }
   ],
   "source": [
    "# Q2- The out of question 1 make it as input for question 2 after make region of\n",
    "# interest then make trackbar for houghlines parameters (threshold ,min_line_length\n",
    "# max_line_gap) and then draw 2 line on image.\n",
    "cv2.namedWindow('Image')\n",
    "\n",
    "def Nothing(x):\n",
    "    pass\n",
    "\n",
    "cv2.createTrackbar(\"Threshold 1\", 'Image', 0, 200, Nothing)\n",
    "cv2.createTrackbar(\"Threshold 2\", 'Image', 0, 200, Nothing)\n",
    "cv2.createTrackbar(\"Threshold\", 'Image', 0, 200, Nothing)\n",
    "cv2.createTrackbar(\"Min Line Length\", 'Image', 0, 200, Nothing)\n",
    "cv2.createTrackbar(\"Max Line Gap\", 'Image', 1, 200, Nothing)\n",
    "\n",
    "while True:\n",
    "\n",
    "    CANNY_THRESHOLD_1 = cv2.getTrackbarPos(\"Threshold 1\", 'Image') # try: 50 - 100      # Typical: 50\n",
    "    CANNY_THRESHOLD_2 = cv2.getTrackbarPos(\"Threshold 2\", 'Image') # try: 100 - 200     # Typical: 150\n",
    "    def canny_edges(gray): # https://docs.opencv.org/3.4/d7/de1/tutorial_js_canny.html\n",
    "        kernel_size = 5 #kernel size for Gaussian smoothing / blurring\n",
    "        blur_gray= cv2.GaussianBlur(gray, (kernel_size, kernel_size), 0)#Gaussian smoothing / blurring\n",
    "\n",
    "        # finding edges - Canny Edge detection (strong gradient between adjacent pixels)\n",
    "        edges = cv2.Canny(blur_gray, CANNY_THRESHOLD_1, CANNY_THRESHOLD_2)\n",
    "        return(edges)\n",
    "\n",
    "\n",
    "    #HOUGH LINES PARAMETERS\n",
    "    RHO = 1                 # try: 1 - 4 (0.5 increments)  \n",
    "    THETA = np.pi/180       # Usually this is Ok\n",
    "    MIN_VOTES = cv2.getTrackbarPos(\"Threshold\", 'Image')          # try: 10 - 50                  # Typical: 30\n",
    "    MIN_LINE_LEN = cv2.getTrackbarPos(\"Min Line Length\", 'Image')\n",
    "    MAX_LINE_GAP = cv2.getTrackbarPos(\"Max Line Gap\", 'Image')\n",
    "\n",
    "    def hough_lines(img):\n",
    "        lines = cv2.HoughLinesP(img, RHO, THETA, MIN_VOTES, np.array([]),\n",
    "                                minLineLength=MIN_LINE_LEN, maxLineGap=MAX_LINE_GAP)\n",
    "        return lines\n",
    "\n",
    "    # Read the image:\n",
    "    image = cv2.imread('test_images/solidWhiteCurve.jpg') #read in\n",
    "    image = cv2.cvtColor(image, cv2.COLOR_BGR2RGB)\n",
    "\n",
    "    gray_img = cv2.cvtColor(image, cv2.COLOR_RGB2GRAY)#grayscale conversion\n",
    "\n",
    "    # 5.   Get the edges (Canny)\n",
    "    edges_img = canny_edges(gray_img)\n",
    "\n",
    "    # 6.   Remove unwanted parts of the image (too many edges) ROI\n",
    "    ROI_edges_img = helpers_masked_edges(edges_img)\n",
    "\n",
    "    # 7.   Get the lines (from edges - Hough lines)\n",
    "    lines = hough_lines(ROI_edges_img)\n",
    "    hough_lines_image = helpers_draw_lines(lines, ROI_edges_img)\n",
    "\n",
    "    # 8.   Formulate 2 lane lines\n",
    "    lanes = helpers_formulate_lanes(lines, ROI_edges_img)\n",
    "\n",
    "    # 9.   Create an image with those 2 lines\n",
    "    lanes_image = helpers_draw_lines(lanes, ROI_edges_img)\n",
    "\n",
    "    # 10.   Combine the orginal frame with the 2 lines\n",
    "    final_image = cv2.addWeighted(image, 0.8, lanes_image, 1, 0) \n",
    "\n",
    "    cv2.imshow('Image Show', final_image[:,:,::-1])\n",
    "    k = cv2.waitKey(1)\n",
    "    if k == ord('q'):\n",
    "        break\n",
    "\n",
    "print('Destroying....')\n",
    "cv2.destroyAllWindows()\n"
   ]
  },
  {
   "cell_type": "markdown",
   "metadata": {},
   "source": [
    "## Observation:\n",
    "- the more values of thresholds (1,2) the little edges you see.\n",
    "- increasing threshold value may cause some lines to disappear.\n",
    "- changing in (max line gap, min line length) affect the result"
   ]
  },
  {
   "cell_type": "code",
   "execution_count": null,
   "metadata": {},
   "outputs": [],
   "source": []
  },
  {
   "cell_type": "code",
   "execution_count": null,
   "metadata": {},
   "outputs": [],
   "source": []
  }
 ],
 "metadata": {
  "kernelspec": {
   "display_name": "Python 3.8.8 ('base')",
   "language": "python",
   "name": "python3"
  },
  "language_info": {
   "codemirror_mode": {
    "name": "ipython",
    "version": 3
   },
   "file_extension": ".py",
   "mimetype": "text/x-python",
   "name": "python",
   "nbconvert_exporter": "python",
   "pygments_lexer": "ipython3",
   "version": "3.8.8"
  },
  "orig_nbformat": 4,
  "vscode": {
   "interpreter": {
    "hash": "303fa613b6f3e1efefe7bb28036e305e1021fa6bdb083a5f9fd57f9d9bbad8eb"
   }
  }
 },
 "nbformat": 4,
 "nbformat_minor": 2
}
