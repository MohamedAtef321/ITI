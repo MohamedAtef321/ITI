{
 "cells": [
  {
   "cell_type": "code",
   "execution_count": 4,
   "metadata": {},
   "outputs": [
    {
     "name": "stdout",
     "output_type": "stream",
     "text": [
      "You Are 23 years old\n"
     ]
    }
   ],
   "source": [
    "# Q1\n",
    "birth_year = input('Please Enter Your Birth Year : ')\n",
    "birth_year = 2022 - int(birth_year)\n",
    "print(f'You Are {birth_year} years old')"
   ]
  },
  {
   "cell_type": "code",
   "execution_count": 7,
   "metadata": {},
   "outputs": [
    {
     "name": "stdout",
     "output_type": "stream",
     "text": [
      "The Sum of Numbers from 1 to 50 = 1275\n",
      "Average of Numbers from 1 to 50 = 25.5\n"
     ]
    }
   ],
   "source": [
    "# Q2\n",
    "num = int(input('Please Enter Any Number : '))\n",
    "sum = 0\n",
    "for i in range(1,num+1):\n",
    "    sum += i\n",
    "avg = sum / num\n",
    "print(f'The Sum of Numbers from 1 to {num} = {sum}')\n",
    "print(f'Average of Numbers from 1 to {num} = {avg}')"
   ]
  },
  {
   "cell_type": "code",
   "execution_count": 9,
   "metadata": {},
   "outputs": [
    {
     "name": "stdout",
     "output_type": "stream",
     "text": [
      "4 is even number\n"
     ]
    }
   ],
   "source": [
    "# Q3\n",
    "import sys\n",
    "numb = input('Enter \\'q\\' for exit.  Please Enter Any Number : ')\n",
    "if numb in ['q', 'Q']:\n",
    "    sys.exit()\n",
    "else :\n",
    "    numb = int(numb)\n",
    "    if numb % 2 == 0:\n",
    "        print(f'{numb} is even number')\n",
    "    else :\n",
    "        print(f'{numb} is odd number')"
   ]
  },
  {
   "cell_type": "code",
   "execution_count": 11,
   "metadata": {},
   "outputs": [
    {
     "name": "stdout",
     "output_type": "stream",
     "text": [
      "Input list [104, 101, 108, 108, 111]\n",
      "String :  hello\n"
     ]
    }
   ],
   "source": [
    "# Q7 ASCII\n",
    "lst = [104, 101, 108, 108, 111]\n",
    "print (\"Input list\", lst)\n",
    "res = \"\"\n",
    "for i in lst:\n",
    "    res = res + chr(i)\n",
    "print (\"String : \", str(res))"
   ]
  },
  {
   "cell_type": "code",
   "execution_count": 14,
   "metadata": {},
   "outputs": [
    {
     "name": "stdout",
     "output_type": "stream",
     "text": [
      "The Area of the circle which radius is 2 = 12.566370614359172\n"
     ]
    }
   ],
   "source": [
    "# Q8\n",
    "import numpy as np\n",
    "r = int(input(\"Enter The Radius of Circle : \"))\n",
    "area = np.pi * (r ** 2)\n",
    "print(f'The Area of the circle which radius is {r} = {area}')"
   ]
  },
  {
   "cell_type": "code",
   "execution_count": 25,
   "metadata": {},
   "outputs": [
    {
     "name": "stdout",
     "output_type": "stream",
     "text": [
      "Name is : Mohamed Atef \n",
      "Reversed Name is : fetA demahoM\n"
     ]
    }
   ],
   "source": [
    "# Q9\n",
    "name = input('Enter First Name : ') + ' ' + input('Enter Last Name : ')\n",
    "reversed = ''\n",
    "for i in range(len(name)-1, -1, -1):\n",
    "    reversed += name[i]\n",
    "print(f'Name is : {name} \\nReversed Name is : {reversed}')"
   ]
  },
  {
   "cell_type": "code",
   "execution_count": 28,
   "metadata": {},
   "outputs": [
    {
     "name": "stdout",
     "output_type": "stream",
     "text": [
      "Mohamed, mohamed, little star \n",
      " How I wonder what you are \n",
      " Up above the world so high \n",
      " Like a diamond in the sky\n",
      "Mohamed, mohamed, little star \n",
      " How I wonder what you are\n"
     ]
    }
   ],
   "source": [
    "# Q10\n",
    "name = input('Enter Your Name : ')\n",
    "name_lowered = name.lower()\n",
    "name_uppered = name[0].upper() + name_lowered[1:]\n",
    "print(f'{name_uppered}, {name_lowered}, little star \\n How I wonder what you are \\n Up above the world so high \\n Like a diamond in the sky')\n",
    "print(f'{name_uppered}, {name_lowered}, little star \\n How I wonder what you are')\n",
    "\n"
   ]
  },
  {
   "cell_type": "code",
   "execution_count": null,
   "metadata": {},
   "outputs": [],
   "source": []
  }
 ],
 "metadata": {
  "kernelspec": {
   "display_name": "Python 3.8.8 ('base')",
   "language": "python",
   "name": "python3"
  },
  "language_info": {
   "codemirror_mode": {
    "name": "ipython",
    "version": 3
   },
   "file_extension": ".py",
   "mimetype": "text/x-python",
   "name": "python",
   "nbconvert_exporter": "python",
   "pygments_lexer": "ipython3",
   "version": "3.8.8"
  },
  "orig_nbformat": 4,
  "vscode": {
   "interpreter": {
    "hash": "303fa613b6f3e1efefe7bb28036e305e1021fa6bdb083a5f9fd57f9d9bbad8eb"
   }
  }
 },
 "nbformat": 4,
 "nbformat_minor": 2
}
