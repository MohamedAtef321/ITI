{
 "cells": [
  {
   "cell_type": "code",
   "execution_count": 43,
   "metadata": {},
   "outputs": [],
   "source": [
    "import numpy as np\n",
    "import matplotlib.pyplot as plt\n",
    "import cv2\n",
    "import math"
   ]
  },
  {
   "cell_type": "code",
   "execution_count": 19,
   "metadata": {},
   "outputs": [
    {
     "data": {
      "text/plain": [
       "<matplotlib.image.AxesImage at 0x1ca429c55b0>"
      ]
     },
     "execution_count": 19,
     "metadata": {},
     "output_type": "execute_result"
    },
    {
     "data": {
      "image/png": "[encoded data removed]",
      "text/plain": [
       "<Figure size 432x288 with 1 Axes>"
      ]
     },
     "metadata": {
      "needs_background": "light"
     },
     "output_type": "display_data"
    }
   ],
   "source": [
    "# Q1- Create image 256*256 Draw red square 50*50 in the center of blue circle with\n",
    "# radius 80 the center of both square and circle is the same center of image.\n",
    "img = np.zeros((256,256,3), np.uint8)\n",
    "square = (50,50)\n",
    "img_center = (int(img.shape[0]/2), int(img.shape[1]/2))\n",
    "cv2.circle(img= img,\n",
    "           center= img_center,\n",
    "           radius= 80,\n",
    "           color= (0,0,255),\n",
    "           thickness= -1)\n",
    "\n",
    "cv2.rectangle(img= img,\n",
    "              pt1= (np.array(img_center) + (np.array(square)/2)).astype('int'),\n",
    "              pt2= (np.array(img_center) - (np.array(square)/2)).astype('int'),\n",
    "              color= (255,0,0), thickness= -1)\n",
    "              \n",
    "plt.imshow(img)"
   ]
  },
  {
   "cell_type": "code",
   "execution_count": 9,
   "metadata": {},
   "outputs": [
    {
     "name": "stdout",
     "output_type": "stream",
     "text": [
      "Destroying....\n"
     ]
    }
   ],
   "source": [
    "# Q2- make trackbar to control line position ,color and thickness in image 500*500 rgb.\n",
    "img = np.zeros((500,500,3), np.uint8)\n",
    "cv2.namedWindow('Image')\n",
    "\n",
    "def Nothing(x):\n",
    "    pass\n",
    "\n",
    "cv2.createTrackbar(\"Pos 1 X\", 'Image', 0, img.shape[0]-1, Nothing)\n",
    "cv2.createTrackbar(\"Pos 1 y\", 'Image', 0, img.shape[1]-1, Nothing)\n",
    "cv2.createTrackbar(\"Pos 2 X\", 'Image', 0, img.shape[0]-1, Nothing)\n",
    "cv2.createTrackbar(\"Pos 2 y\", 'Image', 0, img.shape[1]-1, Nothing)\n",
    "cv2.createTrackbar(\"Red\", 'Image', 0, 255, Nothing)\n",
    "cv2.createTrackbar(\"Green\", 'Image', 0, 255, Nothing)\n",
    "cv2.createTrackbar(\"Blue\", 'Image', 0, 255, Nothing)\n",
    "cv2.createTrackbar(\"Thickness\", 'Image', 1, 10, Nothing)\n",
    "\n",
    "while True:\n",
    "\n",
    "    img = np.zeros((500,500,3), np.uint8)\n",
    "\n",
    "    p1x = cv2.getTrackbarPos(\"Pos 1 X\", 'Image')\n",
    "    p1y = cv2.getTrackbarPos(\"Pos 1 y\", 'Image')\n",
    "    p2x = cv2.getTrackbarPos(\"Pos 2 X\", 'Image')\n",
    "    p2y = cv2.getTrackbarPos(\"Pos 2 y\", 'Image')\n",
    "    r = cv2.getTrackbarPos(\"Red\", 'Image')\n",
    "    g = cv2.getTrackbarPos(\"Green\", 'Image')\n",
    "    b = cv2.getTrackbarPos(\"Blue\", 'Image')\n",
    "    thick = cv2.getTrackbarPos(\"Thickness\", 'Image')\n",
    "\n",
    "    p1 = (p1x, p1y)\n",
    "    p2 = (p2x, p2y)\n",
    "    color = (b,g,r)\n",
    "\n",
    "    cv2.line(img, p1, p2, color, thick)\n",
    "\n",
    "    cv2.imshow('Image Show', img)\n",
    "    k = cv2.waitKey(1)\n",
    "    if k == ord('q'):\n",
    "        break\n",
    "\n",
    "print('Destroying....')\n",
    "cv2.destroyAllWindows()\n"
   ]
  },
  {
   "cell_type": "code",
   "execution_count": 13,
   "metadata": {},
   "outputs": [],
   "source": [
    "# Q3- make trackbar to control position,radius and color of circle in image 500*500 rgb.\n",
    "img = np.zeros((500,500,3), np.uint8)\n",
    "cv2.namedWindow('Image')\n",
    "\n",
    "def Nothing(x):\n",
    "    pass\n",
    "\n",
    "cv2.createTrackbar(\"X\", 'Image', 0, img.shape[0]-1, Nothing)\n",
    "cv2.createTrackbar(\"y\", 'Image', 0, img.shape[1]-1, Nothing)\n",
    "cv2.createTrackbar(\"Radius\", 'Image', 0, img.shape[0]-1, Nothing)\n",
    "cv2.createTrackbar(\"Thickness\", 'Image', 0, 20, Nothing)\n",
    "cv2.createTrackbar(\"Red\", 'Image', 0, 255, Nothing)\n",
    "cv2.createTrackbar(\"Green\", 'Image', 0, 255, Nothing)\n",
    "cv2.createTrackbar(\"Blue\", 'Image', 0, 255, Nothing)\n",
    "\n",
    "while True:\n",
    "\n",
    "    img = np.zeros((500,500,3), np.uint8)\n",
    "\n",
    "    x = cv2.getTrackbarPos(\"X\", 'Image')\n",
    "    y = cv2.getTrackbarPos(\"y\", 'Image')\n",
    "    r = cv2.getTrackbarPos(\"Radius\", 'Image')\n",
    "    t = cv2.getTrackbarPos(\"Thickness\", 'Image')\n",
    "    red = cv2.getTrackbarPos(\"Red\", 'Image')\n",
    "    green = cv2.getTrackbarPos(\"Green\", 'Image')\n",
    "    blue = cv2.getTrackbarPos(\"Blue\", 'Image')\n",
    "\n",
    "    cv2.circle(img, (x,y), r, (blue,green,red), t)\n",
    "\n",
    "    cv2.imshow('Image Show', img)\n",
    "    k = cv2.waitKey(1)\n",
    "    if k == ord('q'):\n",
    "        break\n",
    "\n",
    "cv2.destroyAllWindows()\n"
   ]
  },
  {
   "cell_type": "code",
   "execution_count": 39,
   "metadata": {},
   "outputs": [
    {
     "data": {
      "text/plain": [
       "<matplotlib.image.AxesImage at 0x1c54d53c0d0>"
      ]
     },
     "execution_count": 39,
     "metadata": {},
     "output_type": "execute_result"
    },
    {
     "data": {
      "image/png": "[encoded data removed]",
      "text/plain": [
       "<Figure size 432x288 with 1 Axes>"
      ]
     },
     "metadata": {
      "needs_background": "light"
     },
     "output_type": "display_data"
    }
   ],
   "source": [
    "# Q4- create image 800*800 rgb write a word “Hello” with red color and draw yellow\n",
    "# rectangle on border of word\n",
    "img = np.zeros((800,800,3), np.uint8)\n",
    "cv2.putText(img, 'Hello', (50,img.shape[1]-50), cv2.FONT_HERSHEY_SIMPLEX, 5, (255,0,0), 3)\n",
    "cv2.rectangle(img, (10,600), (450, img.shape[1]-10), (255,255,0), 3)\n",
    "plt.imshow(img)"
   ]
  },
  {
   "cell_type": "code",
   "execution_count": 87,
   "metadata": {},
   "outputs": [
    {
     "name": "stdout",
     "output_type": "stream",
     "text": [
      "Destroying....\n"
     ]
    }
   ],
   "source": [
    "# Q5- create image 800*800 rgb with red circle in center of image with radius 100\n",
    "# and make small blue circle with radius of 6 that move within circumference of the\n",
    "# big circle every 1 second 10 degree.\n",
    "import time\n",
    "\n",
    "img = np.zeros((800,800,3), np.uint8)\n",
    "\n",
    "center = (int(img.shape[0]/2), int(img.shape[1]/2))\n",
    "r_big = 100\n",
    "r_small = 6\n",
    "angle = 0\n",
    "\n",
    "while True:\n",
    "\n",
    "    img = np.zeros((800,800,3), np.uint8)\n",
    "\n",
    "    angle_text = 'Angle: ' + str(angle)\n",
    "\n",
    "    delta_x_big = r_big*math.cos(math.radians(angle))\n",
    "    delta_y_big = r_big*math.sin(math.radians(angle))\n",
    "    delta_x_small = r_small*math.cos(math.radians(angle))\n",
    "    delta_y_small = r_small*math.sin(math.radians(angle))\n",
    "\n",
    "    x_small = int(round(center[0] + delta_x_big - delta_x_small))\n",
    "    y_small = int(round(center[1] + delta_y_big - delta_y_small))\n",
    "\n",
    "    cv2.circle(img, center, r_big, (0,0,255), 1)\n",
    "    cv2.circle(img, (x_small,y_small), r_small, (255,0,0), -1)\n",
    "    cv2.putText(img, str(angle_text), (50,100), cv2.FONT_HERSHEY_SIMPLEX, 2, (255,255,0), 2)\n",
    "\n",
    "    cv2.imshow('Image', img)\n",
    "    k = cv2.waitKey(1)\n",
    "    if k == ord('q'):\n",
    "        break\n",
    "\n",
    "    time.sleep(1)\n",
    "\n",
    "    angle += 10\n",
    "    if angle >= 360 :\n",
    "        angle -= 360\n",
    "\n",
    "print('Destroying....')\n",
    "cv2.destroyAllWindows()\n"
   ]
  },
  {
   "cell_type": "code",
   "execution_count": null,
   "metadata": {},
   "outputs": [],
   "source": []
  }
 ],
 "metadata": {
  "kernelspec": {
   "display_name": "Python 3.8.8 ('base')",
   "language": "python",
   "name": "python3"
  },
  "language_info": {
   "codemirror_mode": {
    "name": "ipython",
    "version": 3
   },
   "file_extension": ".py",
   "mimetype": "text/x-python",
   "name": "python",
   "nbconvert_exporter": "python",
   "pygments_lexer": "ipython3",
   "version": "3.8.8"
  },
  "orig_nbformat": 4,
  "vscode": {
   "interpreter": {
    "hash": "303fa613b6f3e1efefe7bb28036e305e1021fa6bdb083a5f9fd57f9d9bbad8eb"
   }
  }
 },
 "nbformat": 4,
 "nbformat_minor": 2
}
