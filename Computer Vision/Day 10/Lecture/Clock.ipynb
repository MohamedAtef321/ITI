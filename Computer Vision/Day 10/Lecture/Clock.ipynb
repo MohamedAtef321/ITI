{
 "cells": [
  {
   "cell_type": "code",
   "execution_count": 18,
   "metadata": {},
   "outputs": [],
   "source": [
    "import numpy as np\n",
    "import matplotlib.pyplot as plt\n",
    "import cv2\n",
    "import math"
   ]
  },
  {
   "cell_type": "code",
   "execution_count": 19,
   "metadata": {},
   "outputs": [
    {
     "name": "stdout",
     "output_type": "stream",
     "text": [
      "Destroying....\n"
     ]
    }
   ],
   "source": [
    "img = np.zeros((500,500,3), np.uint8)\n",
    "\n",
    "center = (int(img.shape[0]/2), int(img.shape[1]/2))\n",
    "l1 = 0.9\n",
    "l2 = 0.7\n",
    "r = 100\n",
    "t = 2\n",
    "\n",
    "cv2.namedWindow('Image')\n",
    "\n",
    "def Nothing(x):\n",
    "    pass\n",
    "\n",
    "cv2.createTrackbar(\"Angle 1\", 'Image', 0, 360, Nothing)\n",
    "cv2.createTrackbar(\"Angle 2\", 'Image', 0, 360, Nothing)\n",
    "\n",
    "while True:\n",
    "\n",
    "    img = np.zeros((500,500,3), np.uint8)\n",
    "\n",
    "    angle_1 = cv2.getTrackbarPos(\"Angle 1\", 'Image')\n",
    "    angle_2 = cv2.getTrackbarPos(\"Angle 2\", 'Image')\n",
    "\n",
    "    xl1 = int(round(center[0] + l1* r*math.cos(math.radians(angle_1))))\n",
    "    yl1 = int(round(center[1] + l1* r*math.sin(math.radians(angle_1))))\n",
    "\n",
    "    xl2 = int(round(center[0] + l2* r*math.cos(math.radians(angle_2))))\n",
    "    yl2 = int(round(center[1] + l2* r*math.sin(math.radians(angle_2))))\n",
    "\n",
    "    cv2.circle(img, center, r, (0,0,255), t)\n",
    "    cv2.line(img, center, (xl1,yl1), (0,255,255), t)\n",
    "    cv2.line(img, center, (xl2,yl2), (255,255,0), t)\n",
    "\n",
    "    cv2.imshow('Image', img)\n",
    "    k = cv2.waitKey(1)\n",
    "    if k == ord('q'):\n",
    "        break    \n",
    "\n",
    "print('Destroying....')\n",
    "cv2.destroyAllWindows()\n"
   ]
  },
  {
   "cell_type": "code",
   "execution_count": null,
   "metadata": {},
   "outputs": [],
   "source": []
  }
 ],
 "metadata": {
  "kernelspec": {
   "display_name": "Python 3.8.8 ('base')",
   "language": "python",
   "name": "python3"
  },
  "language_info": {
   "codemirror_mode": {
    "name": "ipython",
    "version": 3
   },
   "file_extension": ".py",
   "mimetype": "text/x-python",
   "name": "python",
   "nbconvert_exporter": "python",
   "pygments_lexer": "ipython3",
   "version": "3.8.8"
  },
  "orig_nbformat": 4,
  "vscode": {
   "interpreter": {
    "hash": "303fa613b6f3e1efefe7bb28036e305e1021fa6bdb083a5f9fd57f9d9bbad8eb"
   }
  }
 },
 "nbformat": 4,
 "nbformat_minor": 2
}
